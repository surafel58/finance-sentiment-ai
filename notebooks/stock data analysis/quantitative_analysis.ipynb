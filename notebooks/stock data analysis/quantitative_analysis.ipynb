{
 "cells": [
  {
   "cell_type": "code",
   "execution_count": null,
   "metadata": {},
   "outputs": [],
   "source": [
    "import pandas as pd\n",
    "import glob\n",
    "\n",
    "# List of file names corresponding to the stocks\n",
    "file_names = [\"AAPL_historical_data.csv\", \"AMZN_historical_data.csv\", \"GOOG_historical_data.csv\", \n",
    "              \"META_historical_data.csv\", \"MSFT_historical_data.csv\", \"NVDA_historical_data.csv\", \n",
    "              \"TSLA_historical_data.csv\"]\n",
    "\n",
    "# Initialize an empty dictionary to store DataFrames\n",
    "stock_data = {}\n",
    "\n",
    "# Load each file into a DataFrame and store in the dictionary\n",
    "for file_name in file_names:\n",
    "    # Extract stock symbol from the file name (e.g., \"AAPL\" from \"AAPL_historical_data.csv\")\n",
    "    stock_symbol = file_name.split(\"_\")[0]\n",
    "    \n",
    "    # Load the CSV file\n",
    "    df = pd.read_csv(file_name)\n",
    "    \n",
    "    # Convert the Date column to datetime\n",
    "    df['Date'] = pd.to_datetime(df['Date'])\n",
    "    \n",
    "    # Set the Date column as the index\n",
    "    df.set_index('Date', inplace=True)\n",
    "    \n",
    "    # Store the DataFrame in the dictionary\n",
    "    stock_data[stock_symbol] = df\n",
    "\n",
    "# Check the dictionary keys to verify the stocks loaded\n",
    "print(stock_data.keys())\n"
   ]
  },
  {
   "cell_type": "code",
   "execution_count": null,
   "metadata": {},
   "outputs": [],
   "source": [
    "# Initialize an empty list to store modified DataFrames\n",
    "df_list = []\n",
    "\n",
    "for stock_symbol, df in stock_data.items():\n",
    "    # Add a column to indicate the stock symbol\n",
    "    df['Stock'] = stock_symbol\n",
    "    \n",
    "    # Append the DataFrame to the list\n",
    "    df_list.append(df)\n",
    "\n",
    "# Concatenate all DataFrames into a single DataFrame\n",
    "merged_df = pd.concat(df_list)\n",
    "\n",
    "# Display the first few rows of the merged DataFrame\n",
    "merged_df.head()\n"
   ]
  },
  {
   "cell_type": "code",
   "execution_count": null,
   "metadata": {},
   "outputs": [],
   "source": [
    "# Example: Filter data for Apple (AAPL)\n",
    "aapl_data = merged_df[merged_df['Stock'] == 'AAPL']\n",
    "\n",
    "# Example: Display the merged DataFrame\n",
    "print(merged_df.head())\n"
   ]
  },
  {
   "cell_type": "code",
   "execution_count": null,
   "metadata": {},
   "outputs": [],
   "source": [
    "import talib as ta\n",
    "import seaborn as sns\n",
    "import matplotlib.pyplot as plt\n",
    "\n",
    "# Initialize an empty dictionary to store the indicators\n",
    "indicators = {}\n",
    "\n",
    "# Compute indicators for each stock in the merged DataFrame\n",
    "for stock_symbol in merged_df['Stock'].unique():\n",
    "    stock_df = merged_df[merged_df['Stock'] == stock_symbol]\n",
    "    \n",
    "    # Moving Averages\n",
    "    stock_df['SMA_20'] = ta.SMA(stock_df['Close'], timeperiod=20)\n",
    "    stock_df['SMA_50'] = ta.SMA(stock_df['Close'], timeperiod=50)\n",
    "    \n",
    "    # RSI (Relative Strength Index)\n",
    "    stock_df['RSI'] = ta.RSI(stock_df['Close'], timeperiod=14)\n",
    "    \n",
    "    # MACD (Moving Average Convergence Divergence)\n",
    "    stock_df['MACD'], stock_df['MACD_Signal'], stock_df['MACD_Hist'] = ta.MACD(\n",
    "        stock_df['Close'], \n",
    "        fastperiod=12, \n",
    "        slowperiod=26, \n",
    "        signalperiod=9\n",
    "    )\n",
    "    \n",
    "    # Store the calculated indicators back to the dictionary\n",
    "    indicators[stock_symbol] = stock_df\n",
    "\n",
    "# Example: Display the indicators for AAPL\n",
    "indicators['AAPL'].head()\n"
   ]
  },
  {
   "cell_type": "code",
   "execution_count": null,
   "metadata": {},
   "outputs": [],
   "source": [
    "# Plot the Moving Averages for AAPL\n",
    "plt.figure(figsize=(14, 7))\n",
    "plt.plot(indicators['AAPL'].index, indicators['AAPL']['Close'], label='Close Price')\n",
    "plt.plot(indicators['AAPL'].index, indicators['AAPL']['SMA_20'], label='20-Day SMA')\n",
    "plt.plot(indicators['AAPL'].index, indicators['AAPL']['SMA_50'], label='50-Day SMA')\n",
    "plt.title('AAPL Close Price and Moving Averages')\n",
    "plt.legend()\n",
    "plt.show()\n"
   ]
  },
  {
   "cell_type": "code",
   "execution_count": null,
   "metadata": {},
   "outputs": [],
   "source": [
    "# Plot the RSI for AAPL\n",
    "plt.figure(figsize=(14, 7))\n",
    "plt.plot(indicators['AAPL'].index, indicators['AAPL']['RSI'], label='RSI')\n",
    "plt.axhline(70, color='red', linestyle='--', label='Overbought (70)')\n",
    "plt.axhline(30, color='green', linestyle='--', label='Oversold (30)')\n",
    "plt.title('AAPL RSI')\n",
    "plt.legend()\n",
    "plt.show()\n"
   ]
  },
  {
   "cell_type": "code",
   "execution_count": null,
   "metadata": {},
   "outputs": [],
   "source": [
    "# Plot the MACD for AAPL\n",
    "plt.figure(figsize=(14, 7))\n",
    "plt.plot(indicators['AAPL'].index, indicators['AAPL']['MACD'], label='MACD')\n",
    "plt.plot(indicators['AAPL'].index, indicators['AAPL']['MACD_Signal'], label='MACD Signal')\n",
    "plt.bar(indicators['AAPL'].index, indicators['AAPL']['MACD_Hist'], label='MACD Histogram')\n",
    "plt.title('AAPL MACD')\n",
    "plt.legend()\n",
    "plt.show()\n"
   ]
  }
 ],
 "metadata": {
  "language_info": {
   "name": "python"
  }
 },
 "nbformat": 4,
 "nbformat_minor": 2
}
